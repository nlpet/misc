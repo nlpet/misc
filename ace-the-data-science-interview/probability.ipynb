{
 "cells": [
  {
   "cell_type": "code",
   "execution_count": 5,
   "id": "43e5a607-a740-4977-b06b-849092e2f17e",
   "metadata": {},
   "outputs": [],
   "source": [
    "from math import factorial"
   ]
  },
  {
   "cell_type": "markdown",
   "id": "03575adf-3b2b-43d6-a27b-07d0c13f232d",
   "metadata": {},
   "source": [
    "### Probability Interview Questions"
   ]
  },
  {
   "cell_type": "markdown",
   "id": "10b13b9c-9a92-48c9-a459-b0205e2354b5",
   "metadata": {
    "tags": []
   },
   "source": [
    "#### 5.1 Google (easy)\n",
    "\n",
    "Two teams play a series of games (best of 7 -- whoenever wins 4 games first)  \n",
    "in which each team has a 50% chance of winning any given round (no draws allowed).\n",
    "\n",
    "What is the probability that the series goes to 7 games?\n",
    "\n",
    "--- "
   ]
  },
  {
   "cell_type": "code",
   "execution_count": 65,
   "id": "5c162932-dbc5-441b-8dad-bb72622bc6b7",
   "metadata": {},
   "outputs": [],
   "source": [
    "def choose(n, k):\n",
    "    return int(factorial(n) / (factorial(k) * factorial(n - k)))"
   ]
  },
  {
   "cell_type": "markdown",
   "id": "8bf5468d-1708-4f1e-8b12-bb1bbeb947de",
   "metadata": {},
   "source": [
    "For the game to go to 7 games, each team must have won exactly 3 games each in the first 6."
   ]
  },
  {
   "cell_type": "code",
   "execution_count": 62,
   "id": "ba7c7844-1cbb-4433-b280-c95113a80d43",
   "metadata": {},
   "outputs": [
    {
     "data": {
      "text/plain": [
       "20.0"
      ]
     },
     "execution_count": 62,
     "metadata": {},
     "output_type": "execute_result"
    }
   ],
   "source": [
    "choose(6, 3)"
   ]
  },
  {
   "cell_type": "markdown",
   "id": "b561eb68-8b0d-47c2-a1d0-f3b057cf418a",
   "metadata": {},
   "source": [
    "Divided by the total number of possible 6 games series."
   ]
  },
  {
   "cell_type": "code",
   "execution_count": 63,
   "id": "4d9bbdc5-4e87-4bf5-9508-c468d05e5f2b",
   "metadata": {},
   "outputs": [
    {
     "data": {
      "text/plain": [
       "0.3125"
      ]
     },
     "execution_count": 63,
     "metadata": {},
     "output_type": "execute_result"
    }
   ],
   "source": [
    "choose(6, 3) / 2**6 # or 20 / 64 --> 5 / 16"
   ]
  },
  {
   "cell_type": "markdown",
   "id": "9637a20d-f0b5-42c4-b0f4-0c6e535cc849",
   "metadata": {
    "tags": []
   },
   "source": [
    "#### 5.2 JP Morgan (easy)\n",
    "\n",
    "Say you roll a die three times. What is the probability of getting 2 sixes in a row?\n",
    "\n",
    "--- "
   ]
  },
  {
   "cell_type": "code",
   "execution_count": 21,
   "id": "37a88163-dde0-4b52-bc65-9a4704d0e3e1",
   "metadata": {},
   "outputs": [],
   "source": [
    "p_of_rolling_six = 1 / 6\n",
    "p_of_rolling_other = 5 / 6"
   ]
  },
  {
   "cell_type": "markdown",
   "id": "e52a068c-b473-4dfe-86ce-d4f5f38c0e9b",
   "metadata": {},
   "source": [
    "Given by the sum of the following probabilities:\n",
    "- roll two sixes, roll any other number\n",
    "- roll any other number, roll two sixes\n",
    "- roll three sixes in a row"
   ]
  },
  {
   "cell_type": "code",
   "execution_count": 26,
   "id": "10791c63-cb01-48bc-ad02-cb08429d368b",
   "metadata": {},
   "outputs": [
    {
     "data": {
      "text/plain": [
       "0.0509"
      ]
     },
     "execution_count": 26,
     "metadata": {},
     "output_type": "execute_result"
    }
   ],
   "source": [
    "round((p_of_rolling_six ** 2) * p_of_rolling_any_other_number * 2 + p_of_rolling_six ** 3, 4)"
   ]
  },
  {
   "cell_type": "markdown",
   "id": "9fc75799-c3a3-45d9-a335-b72bd39a8b1c",
   "metadata": {},
   "source": [
    "#### 5.3 Uber (easy)\n",
    "\n",
    "You roll three dice, one after another.\n",
    "\n",
    "What is the probability that you obtain three numbers in a strictly increasing order?\n",
    "\n",
    "--- "
   ]
  },
  {
   "cell_type": "markdown",
   "id": "e68504c7-0576-4190-a38e-1a7390b50c30",
   "metadata": {},
   "source": [
    "All possible ways to throw 3 dice such that the numbers are strictly increasing:\n",
    "* 1, 2, 3-6\n",
    "* 1, 3, 4-6\n",
    "* 1, 4, 5-6\n",
    "* 1, 5, 6\n",
    "* 2, 3, 4-6\n",
    "* 2, 4, 5-6\n",
    "* 2, 5, 6\n",
    "* 3, 4, 5-6\n",
    "* 3, 5, 6\n",
    "* 4, 5, 6"
   ]
  },
  {
   "cell_type": "code",
   "execution_count": 33,
   "id": "b93eb72d-5da1-4a09-a5f6-79e2f3ff8f82",
   "metadata": {},
   "outputs": [],
   "source": [
    "def permutations(n, k):\n",
    "    return factorial(n) / (factorial(n - k))"
   ]
  },
  {
   "cell_type": "markdown",
   "id": "a6df94f5-8842-4c89-a98d-8470f2d74568",
   "metadata": {},
   "source": [
    "Probability is given by"
   ]
  },
  {
   "cell_type": "code",
   "execution_count": 49,
   "id": "696bdb96-f3e3-4c99-bd89-bdddc07b1f51",
   "metadata": {},
   "outputs": [
    {
     "data": {
      "text/plain": [
       "0.09259259259259259"
      ]
     },
     "execution_count": 49,
     "metadata": {},
     "output_type": "execute_result"
    }
   ],
   "source": [
    "((1/6) ** 3) * 4 + (1/6)**2 * (4/6) + ((1/6)**2 * (3/6)) * 2 + ((1/6)**2 * 2/6) * 3"
   ]
  },
  {
   "cell_type": "markdown",
   "id": "9edd180f-1c5a-464d-bb7b-50254bd53178",
   "metadata": {},
   "source": [
    "Another way of solving it is, getting the probability that the numbers are different"
   ]
  },
  {
   "cell_type": "code",
   "execution_count": 50,
   "id": "7bdfb096-a5dd-41d8-a1d7-70fc69fb368f",
   "metadata": {},
   "outputs": [
    {
     "data": {
      "text/plain": [
       "0.5555555555555556"
      ]
     },
     "execution_count": 50,
     "metadata": {},
     "output_type": "execute_result"
    }
   ],
   "source": [
    "1 * (5/6) * (4/6)  # 5/9"
   ]
  },
  {
   "cell_type": "markdown",
   "id": "be873313-b65c-477f-b844-26760f3e4abe",
   "metadata": {},
   "source": [
    "Conditioned on there being three different numbers, there is exactly one particular   \n",
    "sequence that will be in a strictly increasing order, and this sequence occurs with   \n",
    "probability `1/3! = 1/6`.\n",
    "\n",
    "And so the probability is given by `5/9 * 1/6 = 5/54`"
   ]
  },
  {
   "cell_type": "markdown",
   "id": "b8429485-9a41-4856-a5bd-8b1d22fd2b6c",
   "metadata": {},
   "source": [
    "#### 5.4 Zenefits (easy)\n",
    "\n",
    "Assume you have a deck of 100 cards with values ranging from 1 to 100, and that you draw two cards at random without replacement.\n",
    "\n",
    "What is the probability that the number of one card is precisely double that of the other?\n",
    "\n",
    "--- "
   ]
  },
  {
   "cell_type": "code",
   "execution_count": 60,
   "id": "6012192d-5bce-43ee-8368-06014ff12b51",
   "metadata": {},
   "outputs": [
    {
     "data": {
      "text/plain": [
       "0.010101010101010102"
      ]
     },
     "execution_count": 60,
     "metadata": {},
     "output_type": "execute_result"
    }
   ],
   "source": [
    "((1/50) * (1/99)) * 50"
   ]
  },
  {
   "cell_type": "markdown",
   "id": "95f95364-703d-4cec-885e-ee7fbe0393f3",
   "metadata": {},
   "source": [
    "Another way of solving it is:\n",
    "    \n",
    "There are a total of `100 choose 2 = 4950` ways to choose two cards at random from 100.  \n",
    "There are exactly 50 pairs that satisfy the condition: (1,2) .. (50, 100).  \n",
    "Therefore the probability is: `50 / 4950 ~= 0.01`"
   ]
  },
  {
   "cell_type": "markdown",
   "id": "de32cbb4-c25f-43fc-9111-feafe4dad147",
   "metadata": {},
   "source": [
    "#### 5.5 JP Morgan (easy)\n",
    "\n",
    "Imagine you are in a 3D space. From (0,0,0) to (3,3,3), how many paths are there if you can move only up, right and forward?\n",
    "\n",
    "--- "
   ]
  },
  {
   "cell_type": "markdown",
   "id": "d0a9f3de-7205-4188-a564-25d71d5d5aa2",
   "metadata": {},
   "source": [
    "Getting to (3,3,3) requires 9 moves. Using these 9 moves, it must be the case that there are exactly  \n",
    "three moves in each of the three directions (up, right, and forward). There are therefore 9! ways to  \n",
    "order the 9 moves in any given direction. We must divide by 3! for each direction to avoid overcounting  \n",
    "since each up move is indistinguishable. Therefore, the number of paths is: `9! / (3!3!3!) = 1680`."
   ]
  },
  {
   "cell_type": "markdown",
   "id": "79746279-e779-48d4-b227-4de149b10392",
   "metadata": {},
   "source": [
    "#### 5.6 Amazon (easy)\n",
    "\n",
    "One in a thousand people have a particular disease, and the test for the disease is 98%  \n",
    "correct in testing for the disease. On the other hand, the test has 1% error rate if the  \n",
    "person being tested does not have the disease.\n",
    "\n",
    "If someone tests positive, what are the odds that they have the disease?\n",
    "\n",
    "--- "
   ]
  },
  {
   "cell_type": "code",
   "execution_count": 69,
   "id": "ff83d81d-4557-4a43-9088-ee9ad0383f52",
   "metadata": {},
   "outputs": [],
   "source": [
    "def bayes_rule(pa, pb, pba):\n",
    "    return (pba * pa) / pb"
   ]
  },
  {
   "cell_type": "markdown",
   "id": "6628b794-728e-4c6a-9dfc-2a8ec9b98aac",
   "metadata": {},
   "source": [
    "The probability that a person has the disease, given that they tested positive is\n",
    "\n",
    "```\n",
    "P(A|B) = (P(B|A) * P(A)) / P(B)\n",
    "```\n",
    "\n",
    "where A is the event of a person having the disease and B is the event that this person tests positive."
   ]
  },
  {
   "cell_type": "code",
   "execution_count": 85,
   "id": "c87ae1ae-ea4c-43d8-8526-681ddb5a7931",
   "metadata": {},
   "outputs": [],
   "source": [
    "# probability of having the disease\n",
    "pa = 1 / 1000\n",
    "\n",
    "# probability of testing positive\n",
    "pb = (1/1000) * 0.98 + (999/1000) * 0.01\n",
    "\n",
    "# probability of testing positive given that a person has the disease\n",
    "pba = 0.98"
   ]
  },
  {
   "cell_type": "code",
   "execution_count": 79,
   "id": "e7bc00b6-1aa5-4109-bb75-410936a1fc14",
   "metadata": {},
   "outputs": [
    {
     "data": {
      "text/plain": [
       "0.08933454876937101"
      ]
     },
     "execution_count": 79,
     "metadata": {},
     "output_type": "execute_result"
    }
   ],
   "source": [
    "bayes_rule(pa, pb, pba)"
   ]
  },
  {
   "cell_type": "markdown",
   "id": "79bbb5fb-4183-4d03-887b-929229e4be96",
   "metadata": {},
   "source": [
    "Therefore the probability of someone having the disease given that they tested positive is 8.93%."
   ]
  },
  {
   "cell_type": "markdown",
   "id": "f3f139f4-111e-4efe-bd59-c474999845b4",
   "metadata": {},
   "source": [
    "#### 5.7 Facebook (easy)\n",
    "\n",
    "Assume two coins, one fair (having one side heads and one side tails) and the other unfair (having both sides tails).  \n",
    "You pick one at random, flip it five times, and observe that it comes up as tails all five times.\n",
    "\n",
    "What is the probability that you are flipping the unfair coin?\n",
    "\n",
    "--- "
   ]
  },
  {
   "cell_type": "markdown",
   "id": "c421cdcc-fe32-4e34-8f33-93aa39638645",
   "metadata": {},
   "source": [
    "We can use Bayes Rule again, where we denote A as the event of picking the unfair coin  \n",
    "and B as the event of flipping 5 tails, then we want `P(A|B)`."
   ]
  },
  {
   "cell_type": "code",
   "execution_count": 109,
   "id": "0a6317fa-0de9-492b-a3df-709e79aaf7a6",
   "metadata": {},
   "outputs": [],
   "source": [
    "# probability of picking the unfair coin\n",
    "pa = 0.5\n",
    "\n",
    "# probability of flipping 5 tails\n",
    "pb = (0.5 * 0.5 ** 5) + 0.5 * 1\n",
    "\n",
    "# probability of flipping 5 tails given that we picked the unfair coin is\n",
    "pba = 1"
   ]
  },
  {
   "cell_type": "code",
   "execution_count": 110,
   "id": "14d9e193-9413-40cd-9990-2f5defc0b8bd",
   "metadata": {},
   "outputs": [
    {
     "data": {
      "text/plain": [
       "0.9696969696969697"
      ]
     },
     "execution_count": 110,
     "metadata": {},
     "output_type": "execute_result"
    }
   ],
   "source": [
    "bayes_rule(pa, pb, pba)"
   ]
  },
  {
   "cell_type": "markdown",
   "id": "65ecaf27-5808-4ea0-b78b-d5085b2956b6",
   "metadata": {},
   "source": [
    "#### 5.8 Goldman Sachs (easy)\n",
    "\n",
    "Players A and B are playing a game where they take turns flipping a biased coin, with p probability  \n",
    "of landing on heads (and winning). Player A starts the game, and then the players pass the coin back  \n",
    "and forth until one person flips heads and wins.\n",
    "\n",
    "What is the probability that A wins?\n",
    "\n",
    "--- "
   ]
  },
  {
   "cell_type": "markdown",
   "id": "c75bd780-fc6e-4b8b-82b9-679fa38d7c9f",
   "metadata": {},
   "source": [
    "Let P(A) be the probability that A wins. Then, we know the following to be true:\n",
    "\n",
    "1. If A flips heads initially, A wins with probability 1.\n",
    "2. If A flips tails initially, and then B flips a tail, then it is as if neither flip had occurred, and so A wins with probability P(A).\n",
    "\n",
    "Combining the two outcomes, we have: P(A) = p + (1 - p)^2P(A), and simplifying this yields P(A) = p + P(A) - 2pP(A) + p^2P(A) so that p^2P(A) - 2pP(A) + p = 0\n",
    "and hence:\n",
    "\n",
    "$$\n",
    "P(A) = \\frac{1}{2 - p}\n",
    "$$"
   ]
  },
  {
   "cell_type": "markdown",
   "id": "5f5c6446-e391-444e-9301-407204950bc0",
   "metadata": {},
   "source": [
    "#### 5.9 Microsoft (easy)\n",
    "\n",
    "Three friends in Seattle each told you it is rainy, and each person has a 1/3 probability of lying.\n",
    "\n",
    "What is the probability that Seattle is rainy, assuming that the likelihood of rain on any given day is 0.25?\n",
    "\n",
    "--- "
   ]
  },
  {
   "cell_type": "markdown",
   "id": "2287f489-70ae-4024-921b-b7cf7eb1d3b5",
   "metadata": {},
   "source": [
    "Using Bayes, trying to find P(R|F), namely the probability that it is raining given that your three friends said so.\n",
    "\n",
    "P(R) = 0.25  \n",
    "P(F) = 0.25 * (2/3)**3 + 0.75 * (1/3)**3  \n",
    "P(F|R) = (2/3)**3\n",
    "\n",
    "So, we have \n",
    "\n",
    "$$\n",
    "P(R|F) = \\frac{P(R)P(F|R)}{P(F)} = \\frac{0.25 \\times (2/3)^3}{0.25 \\times (2/3)^3 + 0.75 \\times (1/3)^3 } = 0.7272\n",
    "$$"
   ]
  },
  {
   "cell_type": "markdown",
   "id": "ce303d9e-ab41-475f-9dbb-e7d54416f6ea",
   "metadata": {},
   "source": [
    "#### 5.10 Bloomberg (easy)\n",
    "\n",
    "You draw a circle and choose two chords at random. What is the probability that those chords will intersect?\n",
    "\n",
    "---  "
   ]
  },
  {
   "cell_type": "markdown",
   "id": "0fa39509-1b31-480a-9fee-17b78d8fc2a6",
   "metadata": {},
   "source": [
    "By definition, a chord is a line segment where the two endpoints lie on the circle. Therefore, two  \n",
    "arbitrary chords can always be represented by any four points chosen on the circle. If you choose to  \n",
    "represent the first chord by two of teh four points, then you have:"
   ]
  },
  {
   "cell_type": "code",
   "execution_count": 231,
   "id": "f7bf65a2-07a4-4e1f-90fe-7297e97e03bb",
   "metadata": {},
   "outputs": [
    {
     "data": {
      "text/plain": [
       "6"
      ]
     },
     "execution_count": 231,
     "metadata": {},
     "output_type": "execute_result"
    }
   ],
   "source": [
    "choose(4,2)"
   ]
  },
  {
   "cell_type": "markdown",
   "id": "49c681f5-5b83-4a9e-8b86-af2a9f123d63",
   "metadata": {},
   "source": [
    "choices of choosing the two points to represent chord 1. However, note that in this counting, we are  \n",
    "duplicating the count of each chord twice, since a chord with endpoints p1 and p2 is the same as a chord  \n",
    "with endpoints p2 and p1. Therefore, the proper number of valid chords is:"
   ]
  },
  {
   "cell_type": "code",
   "execution_count": 232,
   "id": "ac374b65-ec35-430c-a262-f5bae0313368",
   "metadata": {},
   "outputs": [
    {
     "data": {
      "text/plain": [
       "3.0"
      ]
     },
     "execution_count": 232,
     "metadata": {},
     "output_type": "execute_result"
    }
   ],
   "source": [
    "1/2 * choose(4,2)"
   ]
  },
  {
   "cell_type": "markdown",
   "id": "1435245c-c2dc-43d1-9c37-67c65924d66c",
   "metadata": {},
   "source": [
    "Among these three configurations, in only one of them will the chords intersect, so the desired probability is p = 1/3"
   ]
  },
  {
   "cell_type": "markdown",
   "id": "afe9fb89-581f-4283-8199-fd551246264c",
   "metadata": {},
   "source": [
    "#### 5.11 Morgan Stanley (easy)\n",
    "\n",
    "You and your friend are playing a game. The two of you will continue to toss a coin until the  \n",
    "sequence HH or TH shows up. If HH shows up first, you win. If TH shows up first, your friend wins.\n",
    "\n",
    "What is the probability of you winning?\n",
    "\n",
    "---  "
   ]
  },
  {
   "cell_type": "markdown",
   "id": "2c4b7425-8ca7-4754-a5f8-886bd631e1af",
   "metadata": {},
   "source": [
    "All the different options\n",
    "\n"
   ]
  },
  {
   "cell_type": "code",
   "execution_count": 280,
   "id": "17c2fb0b-6a2c-430b-981a-067d9427f53a",
   "metadata": {},
   "outputs": [],
   "source": [
    "from itertools import product"
   ]
  },
  {
   "cell_type": "code",
   "execution_count": 320,
   "id": "7e7e671b-3764-40d7-bcc0-894fa6bbdbe1",
   "metadata": {},
   "outputs": [],
   "source": [
    "tosses = list(product('HT', repeat=4))"
   ]
  },
  {
   "cell_type": "code",
   "execution_count": 325,
   "id": "6e64bff6-96af-4506-9d65-00fe7a160ab6",
   "metadata": {},
   "outputs": [
    {
     "data": {
      "text/plain": [
       "[('H', 'H', 'H', 'H'),\n",
       " ('H', 'H', 'H', 'T'),\n",
       " ('H', 'H', 'T', 'H'),\n",
       " ('H', 'H', 'T', 'T'),\n",
       " ('H', 'T', 'H', 'H'),\n",
       " ('H', 'T', 'H', 'T'),\n",
       " ('H', 'T', 'T', 'H'),\n",
       " ('H', 'T', 'T', 'T'),\n",
       " ('T', 'H', 'H', 'H'),\n",
       " ('T', 'H', 'H', 'T'),\n",
       " ('T', 'H', 'T', 'H'),\n",
       " ('T', 'H', 'T', 'T'),\n",
       " ('T', 'T', 'H', 'H'),\n",
       " ('T', 'T', 'H', 'T'),\n",
       " ('T', 'T', 'T', 'H'),\n",
       " ('T', 'T', 'T', 'T')]"
      ]
     },
     "execution_count": 325,
     "metadata": {},
     "output_type": "execute_result"
    }
   ],
   "source": [
    "tosses"
   ]
  },
  {
   "cell_type": "code",
   "execution_count": 340,
   "id": "93eff56a-c74b-4c58-8bca-86fce75cb886",
   "metadata": {},
   "outputs": [
    {
     "name": "stdout",
     "output_type": "stream",
     "text": [
      "The probability of you winning is 0.2857 or 1/3.5\n"
     ]
    }
   ],
   "source": [
    "you, friend = 0, 0\n",
    "\n",
    "for toss in tosses:\n",
    "    for i in range(2, 5):\n",
    "        if toss[i - 2: i] == ('H', 'H'):\n",
    "            you += 1\n",
    "            break\n",
    "        elif toss[i - 2: i] == ('T', 'H'):\n",
    "            friend += 1\n",
    "            break\n",
    "            \n",
    "print('The probability of you winning is {} or 1/3.5'.format(round(you / (you + friend), 4)))"
   ]
  },
  {
   "cell_type": "markdown",
   "id": "bc8c47f9-fee0-46e7-876b-cf73da554976",
   "metadata": {},
   "source": [
    "Simple trick that simplifies the problem is as following. Note that, if T is ever flipped, you cannot  \n",
    "then reach HH before your friend reaches TH, since the first heads thereafter will result in them winning.  \n",
    "Therefore, the probability of you winning is limited to just flipping an HH initially, which we know is  \n",
    "given by the following probability\n",
    "\n",
    "$$\n",
    "P(HH) = \\frac{1}{2}\\times \\frac{1}{2} = \\frac{1}{4}\n",
    "$$"
   ]
  },
  {
   "cell_type": "code",
   "execution_count": null,
   "id": "c969f71c-550d-4197-b132-1d391441c6a9",
   "metadata": {},
   "outputs": [],
   "source": []
  }
 ],
 "metadata": {
  "kernelspec": {
   "display_name": "Python 3 (ipykernel)",
   "language": "python",
   "name": "python3"
  },
  "language_info": {
   "codemirror_mode": {
    "name": "ipython",
    "version": 3
   },
   "file_extension": ".py",
   "mimetype": "text/x-python",
   "name": "python",
   "nbconvert_exporter": "python",
   "pygments_lexer": "ipython3",
   "version": "3.9.9"
  }
 },
 "nbformat": 4,
 "nbformat_minor": 5
}
