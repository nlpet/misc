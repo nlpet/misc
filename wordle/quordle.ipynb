{
 "cells": [
  {
   "cell_type": "code",
   "execution_count": 1,
   "id": "013a7442-8040-4880-8014-925c37d04484",
   "metadata": {},
   "outputs": [],
   "source": [
    "import pandas as pd\n",
    "import numpy as np\n",
    "import itertools\n",
    "\n",
    "from string import ascii_lowercase\n",
    "from collections import defaultdict"
   ]
  },
  {
   "cell_type": "code",
   "execution_count": 2,
   "id": "3faf4331-1113-45b1-83c4-6ad78f647ce7",
   "metadata": {},
   "outputs": [],
   "source": [
    "WORD_LEN = 5\n",
    "LETTERS = set(ascii_lowercase)"
   ]
  },
  {
   "cell_type": "code",
   "execution_count": 3,
   "id": "3c6c7947-8565-4fd5-a040-479b2d1a6e90",
   "metadata": {},
   "outputs": [],
   "source": [
    "def load_common_words():\n",
    "    df = pd.read_csv('unigrams5_freq.csv')\n",
    "    df = df[['word', 'count']]\n",
    "    return df\n",
    "\n",
    "def load_words():\n",
    "    five_letter_words = []\n",
    "\n",
    "    with open('words.txt') as fr:\n",
    "        for line in fr.readlines():\n",
    "            word = line.strip().lower()\n",
    "            intersect = set(word).intersection(LETTERS)\n",
    "            if len(word) == 5 and len(intersect) == len(set(word)):\n",
    "                five_letter_words.append(word)\n",
    "\n",
    "    df = pd.DataFrame(five_letter_words, columns=['word'])\n",
    "    return df\n",
    "\n",
    "\n",
    "def load_wordle_words():\n",
    "    with open('wordle_words.txt') as fr:\n",
    "        words = [line.strip() for line in fr.readlines()]\n",
    "\n",
    "    df = pd.DataFrame(words, columns=['word'])\n",
    "    return df"
   ]
  },
  {
   "cell_type": "code",
   "execution_count": 4,
   "id": "c7732e38-c47d-418f-8fd0-cb9a08cf543b",
   "metadata": {},
   "outputs": [],
   "source": [
    "df = load_wordle_words()\n",
    "common_df = load_common_words()\n",
    "wordle_entropy_df = pd.read_csv('wordle_words_entropy.csv')\n",
    "df = pd.merge(df, common_df, how='left', on='word').fillna(0)\n",
    "df = pd.merge(df, wordle_entropy_df, how='inner', on='word')\n",
    "df.drop_duplicates(inplace=True)"
   ]
  },
  {
   "cell_type": "code",
   "execution_count": 5,
   "id": "a58f2f75-7f61-4492-b344-b27f8ad77f6c",
   "metadata": {},
   "outputs": [],
   "source": [
    "df['disqualified'] = 0"
   ]
  },
  {
   "cell_type": "code",
   "execution_count": 6,
   "id": "c419da89-397e-48a8-bed8-814d5ccff0b8",
   "metadata": {},
   "outputs": [
    {
     "data": {
      "text/html": [
       "<div>\n",
       "<style scoped>\n",
       "    .dataframe tbody tr th:only-of-type {\n",
       "        vertical-align: middle;\n",
       "    }\n",
       "\n",
       "    .dataframe tbody tr th {\n",
       "        vertical-align: top;\n",
       "    }\n",
       "\n",
       "    .dataframe thead th {\n",
       "        text-align: right;\n",
       "    }\n",
       "</style>\n",
       "<table border=\"1\" class=\"dataframe\">\n",
       "  <thead>\n",
       "    <tr style=\"text-align: right;\">\n",
       "      <th></th>\n",
       "      <th>word</th>\n",
       "      <th>count</th>\n",
       "      <th>entropy</th>\n",
       "      <th>disqualified</th>\n",
       "    </tr>\n",
       "  </thead>\n",
       "  <tbody>\n",
       "    <tr>\n",
       "      <th>0</th>\n",
       "      <td>aback</td>\n",
       "      <td>0.0</td>\n",
       "      <td>3.5159</td>\n",
       "      <td>0</td>\n",
       "    </tr>\n",
       "    <tr>\n",
       "      <th>1</th>\n",
       "      <td>abase</td>\n",
       "      <td>0.0</td>\n",
       "      <td>4.5873</td>\n",
       "      <td>0</td>\n",
       "    </tr>\n",
       "    <tr>\n",
       "      <th>2</th>\n",
       "      <td>abate</td>\n",
       "      <td>0.0</td>\n",
       "      <td>4.6336</td>\n",
       "      <td>0</td>\n",
       "    </tr>\n",
       "    <tr>\n",
       "      <th>3</th>\n",
       "      <td>abbey</td>\n",
       "      <td>4224864.0</td>\n",
       "      <td>3.9329</td>\n",
       "      <td>0</td>\n",
       "    </tr>\n",
       "    <tr>\n",
       "      <th>4</th>\n",
       "      <td>abbot</td>\n",
       "      <td>0.0</td>\n",
       "      <td>3.9880</td>\n",
       "      <td>0</td>\n",
       "    </tr>\n",
       "  </tbody>\n",
       "</table>\n",
       "</div>"
      ],
      "text/plain": [
       "    word      count  entropy  disqualified\n",
       "0  aback        0.0   3.5159             0\n",
       "1  abase        0.0   4.5873             0\n",
       "2  abate        0.0   4.6336             0\n",
       "3  abbey  4224864.0   3.9329             0\n",
       "4  abbot        0.0   3.9880             0"
      ]
     },
     "execution_count": 6,
     "metadata": {},
     "output_type": "execute_result"
    }
   ],
   "source": [
    "df.head()"
   ]
  },
  {
   "cell_type": "markdown",
   "id": "0622e7cd-8ef2-4efe-8845-be014fbda22d",
   "metadata": {},
   "source": [
    "## Play Game"
   ]
  },
  {
   "cell_type": "code",
   "execution_count": 70,
   "id": "0ae5dd54-914e-4d2d-8625-1e63eee9792f",
   "metadata": {},
   "outputs": [],
   "source": [
    "class Wordled:\n",
    "    def __init__(self, df):\n",
    "        self.disqualified = set([])\n",
    "        self.pinned = [None] * WORD_LEN\n",
    "        self.unpinned = [set([]) for _ in range(WORD_LEN)]\n",
    "        self.guesses = []\n",
    "        self.must_have = set([])\n",
    "        self.df = df\n",
    "        self.patterns = list(itertools.product([-1, 0, 1], repeat=5))\n",
    "        self.calculate_score()\n",
    "        \n",
    "    @staticmethod\n",
    "    def sigmoid(n):\n",
    "        return 1 / (1 + np.exp(-n))\n",
    "        \n",
    "    @staticmethod\n",
    "    def pattern_diff(w1, w2):\n",
    "        pattern = [None] * 5\n",
    "        remaining_count = 5\n",
    "        remaining = defaultdict(int)\n",
    "\n",
    "        for l in w2:\n",
    "            remaining[l] += 1\n",
    "\n",
    "        for i, l in enumerate(w1):\n",
    "            if w1[i] == w2[i]:\n",
    "                pattern[i] = 1\n",
    "                remaining[w1[i]] -= 1\n",
    "                remaining_count -= 1\n",
    "\n",
    "        if remaining_count > 0:\n",
    "            for i, l in enumerate(w1):\n",
    "                if w1[i] != w2[i]:\n",
    "                    if remaining[w1[i]] > 0:\n",
    "                        pattern[i] = 0\n",
    "                        remaining[w1[i]] -= 1\n",
    "                    else:\n",
    "                        pattern[i] = -1\n",
    "\n",
    "        return tuple(pattern)\n",
    "    \n",
    "    @staticmethod\n",
    "    def entropy(probs):\n",
    "        return round(sum([p * np.log2(1 / p) for p in probs if p > 0]), 4)\n",
    "\n",
    "    def get_word_bits(self, word):\n",
    "        bits = []\n",
    "        for i, l in enumerate(word):\n",
    "            p = self.letter_freq_with_pos[i][l] / self.letter_freq_with_pos[i]['total']\n",
    "            bits.append(p * np.log2(1 / p))\n",
    "\n",
    "        return round(sum(bits), 4)\n",
    "        \n",
    "    def calculate_letter_frequency(self):\n",
    "        letter_freq_with_pos = defaultdict(lambda: defaultdict(int))\n",
    "\n",
    "        for word in self.df.word:\n",
    "            for i, l in enumerate(word):\n",
    "                letter_freq_with_pos[i][l] += 1\n",
    "                letter_freq_with_pos[i]['total'] += 1\n",
    "        \n",
    "        return letter_freq_with_pos\n",
    "    \n",
    "    def calculate_entropy(self):\n",
    "        words_with_pattern_probs = defaultdict(lambda: defaultdict(int))\n",
    "\n",
    "        for w1 in self.df.word:\n",
    "            for w2 in self.df.word:\n",
    "                pattern = Wordled.pattern_diff(w1, w2)\n",
    "                words_with_pattern_probs[w1][pattern] += 1\n",
    "\n",
    "        num_words = self.df.shape[0]\n",
    "\n",
    "        for word, pattern_dict in words_with_pattern_probs.items():\n",
    "            for pattern, count in pattern_dict.items():\n",
    "                words_with_pattern_probs[word][pattern] = round(count / num_words, 6)\n",
    "\n",
    "        entropies = [Wordled.entropy(patts.values()) for patts in words_with_pattern_probs.values()]\n",
    "            \n",
    "        return entropies\n",
    "\n",
    "            \n",
    "    def calculate_score(self):\n",
    "        if self.df['count'].sum() > 0:\n",
    "            self.df.loc[:, 'pop_score'] = (round(self.df['count'] / self.df['count'].sum(), 6)) * 100\n",
    "            self.df.loc[:, 'pop_score'] = self.df.pop_score.apply(Wordled.sigmoid)\n",
    "        \n",
    "        self.letter_freq_with_pos = self.calculate_letter_frequency()\n",
    "        self.df.loc[:, 'bits'] = self.df.word.apply(self.get_word_bits)\n",
    "        score = 1 * self.df['entropy'] + 1 * self.df['pop_score'] + 1 * self.df['bits']\n",
    "        self.df.loc[:, 'score'] = round(score, 4)\n",
    "\n",
    "\n",
    "        \n",
    "    def disqualify(self, word):\n",
    "        for idx in range(WORD_LEN):\n",
    "            if self.pinned[idx] and word[idx] != self.pinned[idx]:\n",
    "                return 1\n",
    "            if word[idx] in self.disqualified:\n",
    "                return 1\n",
    "            if word[idx] in self.unpinned[idx]:\n",
    "                return 1\n",
    "\n",
    "        return len(self.must_have.intersection(word)) != len(self.must_have)\n",
    "    \n",
    "    \n",
    "    def record_guess(self, word, feedback):\n",
    "        pins = [(i, l) for i, l in enumerate(word) if feedback[i] == 1]\n",
    "        unpins = [(i, l) for i, l in enumerate(word) if feedback[i] == 0]\n",
    "        present_letters = set(self.pinned + [l for i, l in pins] + [l for i, l in unpins])\n",
    "        disqualified = [\n",
    "            word[i] for i in range(WORD_LEN)\n",
    "            if feedback[i] == -1\n",
    "            and word[i] not in present_letters\n",
    "        ]\n",
    "        self.disqualified.update(set(disqualified))\n",
    "                \n",
    "        for idx, pin in pins:\n",
    "            self.pinned[idx] = pin\n",
    "        \n",
    "        for idx, unpin in unpins:\n",
    "            self.unpinned[idx].add(unpin)\n",
    "            self.must_have.add(unpin)\n",
    "            \n",
    "        self.guesses.append(word)\n",
    "        self.df.loc[:, 'disqualified'] = self.df.word.apply(self.disqualify)\n",
    "        self.df = self.df.loc[self.df.disqualified == 0, :]\n",
    "        self.df.loc[:, 'entropy'] = self.calculate_entropy()\n",
    "        self.calculate_score()\n",
    "        \n",
    "    def guess(self, common_only=False, score_col='score'):\n",
    "        if common_only:\n",
    "            results = self.df[self.df.pop_score > 0] \\\n",
    "                .sort_values(by=score_col, ascending=False)\n",
    "        else:\n",
    "            results = self.df.sort_values(by=score_col, ascending=False)\n",
    "        \n",
    "        if len(results) > 0:\n",
    "            return results.iloc[0].word\n",
    "        \n",
    "        return None\n",
    "    \n",
    "    def show_all_candidates(self, common_only=False, score_col='score'):\n",
    "        if common_only:\n",
    "            return self.df[self.df.pop_score > 0].sort_values(by=score_col, ascending=False)\n",
    "\n",
    "        return self.df.sort_values(by=score_col, ascending=False)"
   ]
  },
  {
   "cell_type": "markdown",
   "id": "1c3cd82d-759b-493a-bcf2-b21c03045235",
   "metadata": {},
   "source": [
    "### Games"
   ]
  },
  {
   "cell_type": "code",
   "execution_count": 286,
   "id": "60ada118-a311-4b02-9a82-80c0a7b6dbe0",
   "metadata": {},
   "outputs": [],
   "source": [
    "def word_score(word, letter_freq):\n",
    "    return sum([letter_freq[l] for l in word])\n",
    "\n",
    "def get_letter_freqs(candidates):\n",
    "    letter_freq = defaultdict(int)\n",
    "\n",
    "    for word in candidates:\n",
    "        for l in word:\n",
    "            letter_freq[l] += 1\n",
    "            \n",
    "    return letter_freq\n",
    "\n",
    "def pick_word(candidates, games, feedbacks=None):\n",
    "    best_word, best_score = None, 0\n",
    "    candidates_with_scores = []\n",
    "    \n",
    "    if feedbacks is not None:\n",
    "        candidates = [\n",
    "            c for i, c in enumerate(candidates)\n",
    "            if sum(feedbacks[i]) != 5\n",
    "        ]\n",
    "            \n",
    "    letter_freq = get_letter_freqs(candidates)\n",
    "    \n",
    "    for i, candidate in enumerate(candidates):\n",
    "        n = games[i].show_all_candidates().shape[0] or 1000\n",
    "        score = word_score(candidate, letter_freq) + (1/n) * 10\n",
    "        candidates_with_scores.append((candidate, score))\n",
    "        \n",
    "        if score > best_score:\n",
    "            best_word, best_score = candidate, score\n",
    "            \n",
    "    for c, s in candidates_with_scores:\n",
    "        print('{} ({:.2f})'.format(c, s), end=' | ')\n",
    "    print()\n",
    "    \n",
    "    return best_word"
   ]
  },
  {
   "cell_type": "code",
   "execution_count": 312,
   "id": "b91d0e4e-eed6-4a58-af55-6dfbe2a84be2",
   "metadata": {},
   "outputs": [],
   "source": [
    "tdf = df.copy()\n",
    "\n",
    "games = [Wordled(tdf) for _ in range(4)]"
   ]
  },
  {
   "cell_type": "code",
   "execution_count": 313,
   "id": "54e62d97-06f5-4928-bf9f-4591a52ce17a",
   "metadata": {},
   "outputs": [
    {
     "name": "stdout",
     "output_type": "stream",
     "text": [
      "slate (20.00) | slate (20.00) | slate (20.00) | slate (20.00) | \n",
      "slate\n"
     ]
    }
   ],
   "source": [
    "candidates = [game.guess() or 'N/A' for game in games]\n",
    "word = pick_word(candidates, games)\n",
    "print(word)"
   ]
  },
  {
   "cell_type": "code",
   "execution_count": 314,
   "id": "06787df9-df01-46cb-90eb-f534b28d367d",
   "metadata": {},
   "outputs": [
    {
     "name": "stdout",
     "output_type": "stream",
     "text": [
      "trice (12.59) | cream (12.16) | short (10.26) | heard (12.83) | \n",
      "heard\n"
     ]
    },
    {
     "name": "stderr",
     "output_type": "stream",
     "text": [
      "/Users/norapetrova/.virtualenvs/dev/lib/python3.9/site-packages/pandas/core/indexing.py:1743: SettingWithCopyWarning: \n",
      "A value is trying to be set on a copy of a slice from a DataFrame.\n",
      "Try using .loc[row_indexer,col_indexer] = value instead\n",
      "\n",
      "See the caveats in the documentation: https://pandas.pydata.org/pandas-docs/stable/user_guide/indexing.html#returning-a-view-versus-a-copy\n",
      "  isetter(ilocs[0], value)\n"
     ]
    }
   ],
   "source": [
    "feedbacks = [\n",
    "    [-1, -1, -1, 0, 1],\n",
    "    [-1, -1, 0, -1, 0],\n",
    "    [1, -1, -1, 0, -1],\n",
    "    [-1, -1, 1, -1, 0]\n",
    "]\n",
    "\n",
    "for i, game in enumerate(games):\n",
    "    game.record_guess(word, feedback=feedbacks[i])\n",
    "    \n",
    "candidates = [game.guess() or 'N/A' for game in games]\n",
    "word = pick_word(candidates, games, feedbacks)\n",
    "print(word)"
   ]
  },
  {
   "cell_type": "code",
   "execution_count": 315,
   "id": "ba77f932-7213-478b-811f-bf67e6bdee04",
   "metadata": {},
   "outputs": [
    {
     "name": "stdout",
     "output_type": "stream",
     "text": [
      "trice (10.67) | gamer (9.40) | shout (8.00) | beady (18.00) | \n",
      "beady\n"
     ]
    }
   ],
   "source": [
    "feedbacks = [\n",
    "    [-1, 0, -1, 0, -1],\n",
    "    [-1, 0, 0, 0, -1],\n",
    "    [0, -1, -1, -1, -1],\n",
    "    [-1, 1, 1, -1, 0]\n",
    "]\n",
    "\n",
    "for i, game in enumerate(games):\n",
    "    game.record_guess(word, feedback=feedbacks[i])\n",
    "    \n",
    "candidates = [game.guess() or 'N/A' for game in games]\n",
    "word = pick_word(candidates, games, feedbacks)\n",
    "print(word)"
   ]
  },
  {
   "cell_type": "code",
   "execution_count": 317,
   "id": "4876d2ee-5003-4ce2-b4f5-82855b6fded2",
   "metadata": {},
   "outputs": [
    {
     "name": "stdout",
     "output_type": "stream",
     "text": [
      "trice (10.00) | wager (7.50) | shout (8.00) | \n",
      "trice\n"
     ]
    }
   ],
   "source": [
    "feedbacks = [\n",
    "    [-1, 0, -1, -1, -1],\n",
    "    [-1, 0, 0, -1, -1],\n",
    "    [-1, -1, -1, -1, -1],\n",
    "    [1, 1, 1, 1, 1]\n",
    "]\n",
    "\n",
    "\n",
    "for i, game in enumerate(games):\n",
    "    game.record_guess(word, feedback=feedbacks[i])\n",
    "    \n",
    "candidates = [game.guess() or 'N/A' for game in games]\n",
    "word = pick_word(candidates, games, feedbacks)\n",
    "print(word)"
   ]
  },
  {
   "cell_type": "code",
   "execution_count": 318,
   "id": "9843cde7-2dcc-46f7-8f91-ead2b2092779",
   "metadata": {},
   "outputs": [
    {
     "name": "stdout",
     "output_type": "stream",
     "text": [
      "trope (16.00) | racer (15.00) | shoot (13.33) | \n",
      "trope\n"
     ]
    }
   ],
   "source": [
    "feedbacks = [\n",
    "    [1, 1, -1, -1, 1],\n",
    "    [-1, 0, -1, 0, 0],\n",
    "    [0, -1, -1, -1, -1],\n",
    "    [1, 1, 1, 1, 1]\n",
    "]\n",
    "\n",
    "for i, game in enumerate(games):\n",
    "    game.record_guess(word, feedback=feedbacks[i])\n",
    "    \n",
    "candidates = [game.guess() or 'N/A' for game in games]\n",
    "word = pick_word(candidates, games, feedbacks)\n",
    "print(word)"
   ]
  },
  {
   "cell_type": "code",
   "execution_count": 319,
   "id": "3d17d890-109c-478a-aaca-d0640c081bb8",
   "metadata": {},
   "outputs": [
    {
     "name": "stdout",
     "output_type": "stream",
     "text": [
      "trove (20.00) | caper (17.00) | shoot (15.00) | \n",
      "trove\n"
     ]
    }
   ],
   "source": [
    "feedbacks = [\n",
    "    [1, 1, 1, -1, 1],\n",
    "    [-1, 0, -1, 0, 0],\n",
    "    [0, -1, 1, -1, -1],\n",
    "    [1, 1, 1, 1, 1]\n",
    "]\n",
    "\n",
    "\n",
    "for i, game in enumerate(games):\n",
    "    game.record_guess(word, feedback=feedbacks[i])\n",
    "    \n",
    "candidates = [game.guess() or 'N/A' for game in games]\n",
    "word = pick_word(candidates, games, feedbacks)\n",
    "print(word)"
   ]
  },
  {
   "cell_type": "code",
   "execution_count": 320,
   "id": "05670b9c-8715-47da-9401-d10c32799517",
   "metadata": {},
   "outputs": [
    {
     "name": "stdout",
     "output_type": "stream",
     "text": [
      "--- GAME 1 ---\n",
      "       word  count  entropy disqualified  pop_score  bits  score\n",
      "2118  trove    0.0      0.0        False        0.5   0.0    0.5\n",
      "\n",
      "--- GAME 2 ---\n",
      "      word  count  entropy  disqualified  pop_score  bits  score\n",
      "332  caper    0.0      0.0         False        0.5   0.0    0.5\n",
      "\n",
      "--- GAME 3 ---\n",
      "       word       count  entropy disqualified  pop_score  bits  score\n",
      "1735  shoot  12695618.0      1.0        False        1.0   0.5    2.5\n",
      "1739  shout   3965861.0      1.0        False        1.0   0.5    2.5\n",
      "\n",
      "--- GAME 4 ---\n",
      "Empty DataFrame\n",
      "Columns: [word, count, entropy, disqualified, pop_score, bits, score]\n",
      "Index: []\n",
      "\n"
     ]
    }
   ],
   "source": [
    "for i, game in enumerate(games):\n",
    "    print('--- GAME {} ---'.format(i + 1))\n",
    "    print(game.show_all_candidates().head(10))\n",
    "    print()"
   ]
  },
  {
   "cell_type": "code",
   "execution_count": null,
   "id": "e75a0ae0-cbe6-4781-889e-b739a4558692",
   "metadata": {},
   "outputs": [],
   "source": []
  }
 ],
 "metadata": {
  "kernelspec": {
   "display_name": "Python 3",
   "language": "python",
   "name": "python3"
  },
  "language_info": {
   "codemirror_mode": {
    "name": "ipython",
    "version": 3
   },
   "file_extension": ".py",
   "mimetype": "text/x-python",
   "name": "python",
   "nbconvert_exporter": "python",
   "pygments_lexer": "ipython3",
   "version": "3.9.9"
  }
 },
 "nbformat": 4,
 "nbformat_minor": 5
}
