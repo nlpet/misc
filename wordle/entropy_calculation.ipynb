{
 "cells": [
  {
   "cell_type": "code",
   "execution_count": 26,
   "id": "632b2216-dcf9-4db9-937e-895fc42a8b04",
   "metadata": {},
   "outputs": [],
   "source": [
    "import itertools\n",
    "from collections import defaultdict\n",
    "\n",
    "import pandas as pd\n",
    "import numpy as np\n",
    "import csv"
   ]
  },
  {
   "cell_type": "code",
   "execution_count": 18,
   "id": "246ca8d7-cfb1-46da-8393-cbcffd99dc17",
   "metadata": {},
   "outputs": [],
   "source": [
    "def load_wordle_words():\n",
    "    with open('wordle_words.txt') as fr:\n",
    "        words = [line.strip() for line in fr.readlines()]\n",
    "\n",
    "    df = pd.DataFrame(words, columns=['word'])\n",
    "    return df"
   ]
  },
  {
   "cell_type": "code",
   "execution_count": 19,
   "id": "9eb03f06-d268-43f1-805e-88121fe24d24",
   "metadata": {},
   "outputs": [],
   "source": [
    "df = load_wordle_words()"
   ]
  },
  {
   "cell_type": "code",
   "execution_count": 20,
   "id": "031b2e21-efd5-471b-8958-720d7c984fdb",
   "metadata": {},
   "outputs": [],
   "source": [
    "patterns = list(itertools.product([-1, 0, 1], repeat=5))\n",
    "words_with_pattern_probs = defaultdict(lambda: defaultdict(int))"
   ]
  },
  {
   "cell_type": "code",
   "execution_count": 21,
   "id": "4682de61-802a-4cfc-b2cd-17b9572938cf",
   "metadata": {},
   "outputs": [],
   "source": [
    "def pattern_diff(w1, w2):\n",
    "    pattern = [None] * 5\n",
    "    remaining_count = 5\n",
    "    remaining = defaultdict(int)\n",
    "    \n",
    "    for l in w2:\n",
    "        remaining[l] += 1\n",
    "\n",
    "    for i, l in enumerate(w1):\n",
    "        if w1[i] == w2[i]:\n",
    "            pattern[i] = 1\n",
    "            remaining[w1[i]] -= 1\n",
    "            remaining_count -= 1\n",
    "            \n",
    "    if remaining_count > 0:\n",
    "        for i, l in enumerate(w1):\n",
    "            if w1[i] != w2[i]:\n",
    "                if remaining[w1[i]] > 0:\n",
    "                    pattern[i] = 0\n",
    "                    remaining[w1[i]] -= 1\n",
    "                else:\n",
    "                    pattern[i] = -1\n",
    "\n",
    "    return tuple(pattern)"
   ]
  },
  {
   "cell_type": "code",
   "execution_count": 22,
   "id": "13490baa-d11b-4b7c-9dae-63b0dcc0f27b",
   "metadata": {},
   "outputs": [
    {
     "name": "stdout",
     "output_type": "stream",
     "text": [
      "CPU times: user 18.5 s, sys: 45.1 ms, total: 18.5 s\n",
      "Wall time: 18.5 s\n"
     ]
    }
   ],
   "source": [
    "%%time\n",
    "\n",
    "for w1 in df.word:\n",
    "    for w2 in df.word:\n",
    "        pattern = pattern_diff(w1, w2)\n",
    "        words_with_pattern_probs[w1][pattern] += 1"
   ]
  },
  {
   "cell_type": "code",
   "execution_count": 23,
   "id": "ddd44443-bf42-4521-8232-eb756c9e8c8e",
   "metadata": {},
   "outputs": [],
   "source": [
    "num_words = df.shape[0]\n",
    "\n",
    "for word, pattern_dict in words_with_pattern_probs.items():\n",
    "    for pattern, count in pattern_dict.items():\n",
    "        words_with_pattern_probs[word][pattern] = round(count / num_words, 6)\n",
    "        \n",
    "word_entropy = []\n",
    "\n",
    "for word, pattern_dict in words_with_pattern_probs.items():\n",
    "    e = round(sum([p * np.log2(1 / p) for p in pattern_dict.values() if p > 0]), 4)\n",
    "    word_entropy.append([word, e])"
   ]
  },
  {
   "cell_type": "code",
   "execution_count": 27,
   "id": "9168d92d-0cef-4bac-9cde-f289d9a8f02c",
   "metadata": {},
   "outputs": [],
   "source": [
    "fields = ['word', 'entropy']\n",
    "\n",
    "with open('wordle_words_entropy.csv', 'w') as fw:\n",
    "    writer = csv.writer(fw)\n",
    "    writer.writerow(fields)\n",
    "    writer.writerows(word_entropy)"
   ]
  },
  {
   "cell_type": "code",
   "execution_count": null,
   "id": "8e423cf4-41a5-41e4-8c9e-971f0ed7d218",
   "metadata": {},
   "outputs": [],
   "source": []
  }
 ],
 "metadata": {
  "kernelspec": {
   "display_name": "Python 3",
   "language": "python",
   "name": "python3"
  },
  "language_info": {
   "codemirror_mode": {
    "name": "ipython",
    "version": 3
   },
   "file_extension": ".py",
   "mimetype": "text/x-python",
   "name": "python",
   "nbconvert_exporter": "python",
   "pygments_lexer": "ipython3",
   "version": "3.9.9"
  }
 },
 "nbformat": 4,
 "nbformat_minor": 5
}
