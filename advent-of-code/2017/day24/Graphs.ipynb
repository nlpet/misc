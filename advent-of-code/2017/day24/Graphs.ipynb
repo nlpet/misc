{
 "cells": [
  {
   "cell_type": "code",
   "execution_count": 2,
   "metadata": {},
   "outputs": [],
   "source": [
    "import matplotlib.pyplot as plt\n",
    "import networkx as nx\n"
   ]
  },
  {
   "cell_type": "code",
   "execution_count": 3,
   "metadata": {},
   "outputs": [],
   "source": [
    "def calculate_strength(lst):\n",
    "    return sum([sum(t) for t in lst])"
   ]
  },
  {
   "cell_type": "code",
   "execution_count": 4,
   "metadata": {
    "scrolled": false
   },
   "outputs": [
    {
     "data": {
      "image/png": "[encoded data removed]",
      "text/plain": [
       "<matplotlib.figure.Figure at 0x110cbbba8>"
      ]
     },
     "metadata": {},
     "output_type": "display_data"
    }
   ],
   "source": [
    "G = nx.OrderedGraph()\n",
    "\n",
    "# G.add_edges_from()\n",
    "# H.add_edges_from([(0, 2), (2, 2), (2, 3), (3, 4), (3, 5), (9, 10), (10, 1)])\n",
    "# G.add_nodes_from([0, 2, 3, 4, 5, 6, 7, 8, 9, 10, 11, 12, 13, 14, 15, 16, 18,\n",
    "#                   20, 21, 22, 23, 24, 25, 26, 27, 28, 29, 30, 31, 32, 33, 35,\n",
    "#                   36, 38, 39, 40, 41, 42, 44, 46, 48, 49, 50])\n",
    "\n",
    "\n",
    "data = [(3, 5), (0, 1), (2, 2), (10, 1), (2, 3), (3, 4), (9, 10)]\n",
    "\n",
    "\n",
    "# data = [(0, 30), (2, 3), (2, 13), (3, 32), (4, 10), (5, 11),\n",
    "#        (5, 20), (5, 29), (6, 6), (6, 44), (7, 39), (8, 7),\n",
    "#        (8, 9), (9, 3), (9, 10), (13, 6), (13, 20), (14, 42),\n",
    "#        (15, 6), (15, 23), (16, 4), (16, 6), (16, 14), (18, 39),\n",
    "#        (21, 24), (22, 26), (23, 39), (23, 49), (24, 46), (24, 50),\n",
    "#        (25, 20), (26, 5), (26, 23), (27, 49), (28, 28), (28, 40),\n",
    "#        (29, 29), (29, 41), (30, 2), (33, 9), (35, 39), (35, 50),\n",
    "#        (36, 4), (36, 20), (38, 38), (39, 39), (40, 40), (41, 44),\n",
    "#        (42, 11), (42, 12), (44, 48), (44, 50), (46, 31), (46, 46),\n",
    "#        (48, 10), (48, 14), (49, 41)]\n",
    "\n",
    "for a, b in data:\n",
    "    G.add_edge(a, b, weight=a + b)\n",
    "\n",
    "options = {\n",
    "    'with_labels': True,\n",
    "    'node_color': 'orange',\n",
    "    'node_size': 300,\n",
    "    'width': 1\n",
    "}\n",
    "\n",
    "nx.draw(G, **options)\n",
    "plt.show()"
   ]
  },
  {
   "cell_type": "code",
   "execution_count": 6,
   "metadata": {},
   "outputs": [
    {
     "name": "stdout",
     "output_type": "stream",
     "text": [
      "[(0, 1), (1, 10), (10, 9)]\n",
      "31\n"
     ]
    }
   ],
   "source": [
    "max_subgraph = max(nx.connected_component_subgraphs(G), key=max)\n",
    "print(list(max_subgraph.edges()))\n",
    "print(calculate_strength(list(max_subgraph.edges())))"
   ]
  }
 ],
 "metadata": {
  "kernelspec": {
   "display_name": "Python 3",
   "language": "python",
   "name": "python3"
  },
  "language_info": {
   "codemirror_mode": {
    "name": "ipython",
    "version": 3
   },
   "file_extension": ".py",
   "mimetype": "text/x-python",
   "name": "python",
   "nbconvert_exporter": "python",
   "pygments_lexer": "ipython3",
   "version": "3.6.2"
  }
 },
 "nbformat": 4,
 "nbformat_minor": 2
}
